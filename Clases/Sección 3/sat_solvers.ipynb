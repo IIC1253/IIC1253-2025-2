{
  "nbformat": 4,
  "nbformat_minor": 0,
  "metadata": {
    "colab": {
      "provenance": []
    },
    "kernelspec": {
      "name": "python3",
      "display_name": "Python 3"
    },
    "language_info": {
      "name": "python"
    }
  },
  "cells": [
    {
      "cell_type": "code",
      "execution_count": 17,
      "metadata": {
        "colab": {
          "base_uri": "https://localhost:8080/"
        },
        "id": "9hyOgNi3cGub",
        "outputId": "5583d882-7448-4e3b-da59-5bbf4c28a0d7"
      },
      "outputs": [
        {
          "output_type": "stream",
          "name": "stdout",
          "text": [
            "Requirement already satisfied: z3-solver in /usr/local/lib/python3.11/dist-packages (4.15.1.0)\n"
          ]
        }
      ],
      "source": [
        "!pip install z3-solver\n",
        "from z3 import *"
      ]
    },
    {
      "cell_type": "code",
      "source": [
        "# Variables proposicionales para los alumnos y sus salas correspondientes\n",
        "\n",
        "sala1 = [Bool(f\"x_{i}_1\") for i in range(10)]\n",
        "sala2 = [Bool(f\"x_{i}_2\") for i in range(10)]\n",
        "sala3 = [Bool(f\"x_{i}_3\") for i in range(10)]\n",
        "\n",
        "# Variables proposicionales para las parejas que deben ir en distintas salas\n",
        "\n",
        "parejas = [\n",
        "    [Bool(f\"p_{i}_{j}\") if i < j else None for j in range(10)]\n",
        "    for i in range(10)\n",
        "]\n",
        "\n",
        "print(sala1)\n",
        "print(sala2)\n",
        "print(sala3)\n",
        "print(parejas)"
      ],
      "metadata": {
        "colab": {
          "base_uri": "https://localhost:8080/"
        },
        "id": "k_Omp8xHdMM5",
        "outputId": "13b5e7ef-8779-466f-db51-10bd487776c1"
      },
      "execution_count": 24,
      "outputs": [
        {
          "output_type": "stream",
          "name": "stdout",
          "text": [
            "[x_0_1, x_1_1, x_2_1, x_3_1, x_4_1, x_5_1, x_6_1, x_7_1, x_8_1, x_9_1]\n",
            "[x_0_2, x_1_2, x_2_2, x_3_2, x_4_2, x_5_2, x_6_2, x_7_2, x_8_2, x_9_2]\n",
            "[x_0_3, x_1_3, x_2_3, x_3_3, x_4_3, x_5_3, x_6_3, x_7_3, x_8_3, x_9_3]\n",
            "[[None, p_0_1, p_0_2, p_0_3, p_0_4, p_0_5, p_0_6, p_0_7, p_0_8, p_0_9], [None, None, p_1_2, p_1_3, p_1_4, p_1_5, p_1_6, p_1_7, p_1_8, p_1_9], [None, None, None, p_2_3, p_2_4, p_2_5, p_2_6, p_2_7, p_2_8, p_2_9], [None, None, None, None, p_3_4, p_3_5, p_3_6, p_3_7, p_3_8, p_3_9], [None, None, None, None, None, p_4_5, p_4_6, p_4_7, p_4_8, p_4_9], [None, None, None, None, None, None, p_5_6, p_5_7, p_5_8, p_5_9], [None, None, None, None, None, None, None, p_6_7, p_6_8, p_6_9], [None, None, None, None, None, None, None, None, p_7_8, p_7_9], [None, None, None, None, None, None, None, None, None, p_8_9], [None, None, None, None, None, None, None, None, None, None]]\n"
          ]
        }
      ]
    },
    {
      "cell_type": "code",
      "source": [
        "# Creamos el solver\n",
        "\n",
        "solver = Solver()\n",
        "\n",
        "# Agregamos las formulas al solver\n",
        "\n",
        "# A cada alumno se le asigna una sala\n",
        "\n",
        "for i in range(10):\n",
        "    solver.add((sala1[i] | sala2[i] | sala3[i]))\n",
        "\n",
        "# Cada alumno no puede tener mas de una sala asignada\n",
        "for i in range(10):\n",
        "    solver.add(\n",
        "        (~sala1[i] | ~sala2[i]) &\n",
        "        (~sala1[i] | ~sala3[i]) &\n",
        "        (~sala2[i] | ~sala3[i])\n",
        "    )\n",
        "\n",
        "# Las parejas en la lista no pueden ir a la misma sala\n",
        "for i in range(10):\n",
        "    for j in range(10):\n",
        "        if i < j:\n",
        "            solver.add(\n",
        "                Implies(parejas[i][j], (~sala1[i] | ~sala1[j])) &\n",
        "                Implies(parejas[i][j], (~sala2[i] | ~sala2[j])) &\n",
        "                Implies(parejas[i][j], (~sala3[i] | ~sala3[j]))\n",
        "            )\n",
        "\n",
        "# La lista de parejas que no pueden estar en la misma sala\n",
        "solver.add(\n",
        "    parejas[0][1] &\n",
        "    parejas[0][5] &\n",
        "    parejas[0][6] &\n",
        "    parejas[0][7] &\n",
        "    parejas[1][3] &\n",
        "    parejas[1][4] &\n",
        "    parejas[1][6] &\n",
        "    parejas[2][5] &\n",
        "    parejas[2][7] &\n",
        "    parejas[2][8] &\n",
        "    parejas[2][9] &\n",
        "    parejas[3][6] &\n",
        "    parejas[4][5] &\n",
        "    parejas[4][6] &\n",
        "    parejas[5][8] &\n",
        "    parejas[8][9]\n",
        "  )"
      ],
      "metadata": {
        "id": "CGPpdtqH39Zh"
      },
      "execution_count": 25,
      "outputs": []
    },
    {
      "cell_type": "code",
      "source": [
        "# Ejecutamos el solver y verificamos satisfacibilidad\n",
        "if solver.check() == sat:\n",
        "    solucion = solver.model()\n",
        "    verdaderas = [v for v in solucion if solucion[v] == True and str(v)[0] != \"p\"]\n",
        "    print(f\"Asignación de salas: {verdaderas}\")\n",
        "else:\n",
        "    print(\"No hay una asignacion de salas válida\")\n"
      ],
      "metadata": {
        "colab": {
          "base_uri": "https://localhost:8080/"
        },
        "id": "t9xBvyWW76sZ",
        "outputId": "5ff78945-e0fd-4cd1-d456-3a8490c09a6c"
      },
      "execution_count": 26,
      "outputs": [
        {
          "output_type": "stream",
          "name": "stdout",
          "text": [
            "Asignación de salas: [x_6_1, x_7_1, x_5_1, x_3_2, x_4_2, x_8_2, x_9_1, x_0_2, x_2_3, x_1_3]\n"
          ]
        }
      ]
    }
  ]
}